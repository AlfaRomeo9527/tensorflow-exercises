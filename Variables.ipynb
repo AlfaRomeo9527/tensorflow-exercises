{
 "cells": [
  {
   "cell_type": "markdown",
   "metadata": {},
   "source": [
    "# Variables"
   ]
  },
  {
   "cell_type": "code",
   "execution_count": 1,
   "metadata": {
    "collapsed": true
   },
   "outputs": [],
   "source": [
    "import tensorflow as tf\n",
    "import numpy as np\n",
    "import matplotlib.pyplot as plt\n",
    "%matplotlib inline"
   ]
  },
  {
   "cell_type": "code",
   "execution_count": 17,
   "metadata": {
    "collapsed": false
   },
   "outputs": [
    {
     "data": {
      "text/plain": [
       "'0.12.0-rc0'"
      ]
     },
     "execution_count": 17,
     "metadata": {},
     "output_type": "execute_result"
    }
   ],
   "source": [
    "tf.__version__"
   ]
  },
  {
   "cell_type": "code",
   "execution_count": 18,
   "metadata": {
    "collapsed": false
   },
   "outputs": [
    {
     "data": {
      "text/plain": [
       "'1.11.2'"
      ]
     },
     "execution_count": 18,
     "metadata": {},
     "output_type": "execute_result"
    }
   ],
   "source": [
    "np.__version__"
   ]
  },
  {
   "cell_type": "code",
   "execution_count": 4,
   "metadata": {
    "collapsed": true
   },
   "outputs": [],
   "source": [
    "__author__ = 'kyubyong. kbpark.linguist@gmail.com. https://www.github.com/kyubyong'"
   ]
  },
  {
   "cell_type": "markdown",
   "metadata": {},
   "source": [
    "## Variables "
   ]
  },
  {
   "cell_type": "markdown",
   "metadata": {},
   "source": [
    "Q0. Create a variable `w` with an initial value of 1.0 and name `weight`.\n",
    "Then, print out the value of `w`."
   ]
  },
  {
   "cell_type": "code",
   "execution_count": 46,
   "metadata": {
    "collapsed": false
   },
   "outputs": [
    {
     "name": "stdout",
     "output_type": "stream",
     "text": [
      "1.0\n"
     ]
    }
   ],
   "source": []
  },
  {
   "cell_type": "markdown",
   "metadata": {},
   "source": [
    "Q1. Complete this code."
   ]
  },
  {
   "cell_type": "code",
   "execution_count": 51,
   "metadata": {
    "collapsed": false
   },
   "outputs": [
    {
     "name": "stdout",
     "output_type": "stream",
     "text": [
      "1.0 => 2.0 => 3.0 => 4.0 => 5.0 => 6.0 => 7.0 => 8.0 => 9.0 => 10.0 =>\n"
     ]
    }
   ],
   "source": [
    "# Create a variable w.\n",
    "w = tf.Variable(1.0, name=\"Weight\")\n",
    "\n",
    "# Q. Add 1 to w and assign the value to w.\n",
    "assign_op = ...\n",
    "\n",
    "with tf.Session() as sess:\n",
    "    sess.run(w.initializer)\n",
    "    for _ in range(10):\n",
    "        print w.eval(), \"=>\", \n",
    "        sess.run(assign_op)\n",
    "        \n"
   ]
  },
  {
   "cell_type": "markdown",
   "metadata": {},
   "source": [
    "Q2. Complete this code."
   ]
  },
  {
   "cell_type": "code",
   "execution_count": 3,
   "metadata": {
    "collapsed": false
   },
   "outputs": [
    {
     "name": "stdout",
     "output_type": "stream",
     "text": [
      "6.0\n"
     ]
    }
   ],
   "source": [
    "w1 = tf.Variable(1.0)\n",
    "w2 = tf.Variable(2.0)\n",
    "w3 = tf.Variable(3.0)\n",
    "\n",
    "out = w1 + w2 + w3\n",
    "\n",
    "# Q. Add an Op to initialize global variables.\n",
    "init_op = ...\n",
    "\n",
    "with tf.Session() as sess:\n",
    "    sess.run(init_op) # Initialize all variables.\n",
    "    print out.eval()\n"
   ]
  },
  {
   "cell_type": "markdown",
   "metadata": {
    "collapsed": true
   },
   "source": [
    "Q3-4. Complete this code."
   ]
  },
  {
   "cell_type": "code",
   "execution_count": 53,
   "metadata": {
    "collapsed": false
   },
   "outputs": [
    {
     "name": "stdout",
     "output_type": "stream",
     "text": [
      "[[  7.99060106e-01  -9.24833000e-01  -1.03938863e-01  -6.08309289e-04\n",
      "   -1.10895765e+00   2.27522463e-01  -8.06696177e-01   3.09480548e-01\n",
      "   -2.91035861e-01   2.44009346e-01]]\n",
      "[[  1.59812021e+00  -1.84966600e+00  -2.07877725e-01  -1.21661858e-03\n",
      "   -2.21791530e+00   4.55044925e-01  -1.61339235e+00   6.18961096e-01\n",
      "   -5.82071722e-01   4.88018692e-01]]\n"
     ]
    }
   ],
   "source": [
    "v = tf.Variable(tf.truncated_normal([1, 10]))\n",
    "# Q3. Initialize `w` with 2 * v\n",
    "w = ...\n",
    "\n",
    "# Q4. Add an Op to initialize global variables.\n",
    "init_op = ...\n",
    "with tf.Session() as sess:\n",
    "    sess.run(init_op) # Initialize all variables.\n",
    "    _v, _w = sess.run([v, w])\n",
    "    print _v\n",
    "    print _w\n",
    "    assert np.array_equiv(_v * 2.0, _w)\n",
    "\n",
    "# Compare the value of `w` with z = 2 * v. "
   ]
  },
  {
   "cell_type": "markdown",
   "metadata": {
    "collapsed": true
   },
   "source": [
    "Q5-8. Complete this code."
   ]
  },
  {
   "cell_type": "code",
   "execution_count": 55,
   "metadata": {
    "collapsed": false
   },
   "outputs": [
    {
     "name": "stdout",
     "output_type": "stream",
     "text": [
      "Q5. Weight:0\n",
      "Q6. <dtype: 'float32_ref'>\n",
      "Q7. (1,)\n",
      "Q8. True\n"
     ]
    }
   ],
   "source": [
    "g = tf.Graph()\n",
    "with g.as_default():\n",
    "    w = tf.Variable([5,], name=\"Weight\", dtype=tf.float32)\n",
    "    # Q5. Print the name of `w`.\n",
    "    print \"Q5.\", ...\n",
    "    # Q6. Print the data type of `w`.\n",
    "    print \"Q6.\", ...\n",
    "    # Q7. Print the shape of `w`.\n",
    "    print \"Q7.\", ...\n",
    "    # Q8. Check if the graph of `w` is the same as `g`.\n",
    "    print \"Q8.\", ...\n"
   ]
  },
  {
   "cell_type": "markdown",
   "metadata": {
    "collapsed": true
   },
   "source": [
    "## Variable helper functions "
   ]
  },
  {
   "cell_type": "markdown",
   "metadata": {},
   "source": [
    "Q9-13. Complete this code."
   ]
  },
  {
   "cell_type": "code",
   "execution_count": 68,
   "metadata": {
    "collapsed": false
   },
   "outputs": [
    {
     "name": "stdout",
     "output_type": "stream",
     "text": [
      "global variable => Weight1:0\n",
      "global variable => Weight2:0\n",
      "global variable => Weight3:0\n",
      "trainable_variable => Weight1:0\n",
      "trainable_variable => Weight3:0\n",
      "Has w1 been initialized? True\n",
      "['Weight3'] has not been initialized.\n"
     ]
    }
   ],
   "source": [
    "tf.reset_default_graph()\n",
    "\n",
    "w1 = tf.Variable(1.0, name=\"Weight1\")\n",
    "w2 = tf.Variable(2.0, name=\"Weight2\", trainable=False)\n",
    "w3 = tf.Variable(3.0, name=\"Weight3\")\n",
    "\n",
    "# Q9. Add an op to list the names of uninitialized variables.\n",
    "op1 = ...\n",
    "\n",
    "# Q10. Check if `w1` has been initialized.\n",
    "is_initialized = ...\n",
    "\n",
    "with tf.Session() as sess:\n",
    "    # Q11. Initialize the variables w1 and w2.\n",
    "    sess.run(...)\n",
    "    \n",
    "    # Q12. Print the name of all global variables \n",
    "    for v in ...:\n",
    "        print \"global variable =>\", v.name\n",
    "    \n",
    "    # Q13. Print the name of all trainable variables\n",
    "    for v in ...:\n",
    "        print \"trainable_variable =>\", v.name\n",
    "    \n",
    "    print \"Has w1 been initialized?\", is_initialized.eval()\n",
    "    print sess.run(op1), \"has not been initialized.\"\n",
    "        \n"
   ]
  },
  {
   "cell_type": "markdown",
   "metadata": {
    "collapsed": true
   },
   "source": [
    "## Saving and Restoring Variables "
   ]
  },
  {
   "cell_type": "markdown",
   "metadata": {},
   "source": [
    "Q14-15. This is a simple example code to find the coefficient of a linear function. (Here y = 2x).\n",
    "Complete the code."
   ]
  },
  {
   "cell_type": "code",
   "execution_count": 105,
   "metadata": {
    "collapsed": false
   },
   "outputs": [
    {
     "name": "stdout",
     "output_type": "stream",
     "text": [
      "1.06645 => 1.52099 => 1.76103 => 1.87487 => 1.93405 => 1.96603 => 1.98247 => 1.99091 => 1.9954 => 1.99765 =>\n"
     ]
    }
   ],
   "source": [
    "tf.reset_default_graph()\n",
    "w = tf.Variable(0.2, 'weight') # <- This is what we want to find. The true value is 2.\n",
    "x = tf.random_uniform([1])\n",
    "y = 2 * x # Let's pretend we don't know the coefficient 2 here.\n",
    "y_hat = w * x\n",
    "loss = tf.squared_difference(y, y_hat)\n",
    "train_op = tf.train.GradientDescentOptimizer(0.001).minimize(loss)\n",
    "\n",
    "init_op = tf.global_variables_initializer()\n",
    "with tf.Session() as sess:\n",
    "    sess.run(init_op)\n",
    "    saver = tf.train.Saver()\n",
    "    for step in range(1, 10001):\n",
    "        sess.run(train_op)\n",
    "        \n",
    "        import os\n",
    "        if not os.path.exists('model'): os.mkdir('model') # Let's make a folder in order not to discrupt our current folder.\n",
    "            \n",
    "        if step % 1000 == 0:\n",
    "            print w.eval(), \"=>\", \n",
    "            \n",
    "            # Q14. Save the checkpoint file, giving it a base name of `model/my-model`\n",
    "            save_path = ...\n",
    "    \n",
    "    # Q15. Find the filename of the latest saved checkpoint file.\n",
    "    # And if it exists, restore it.\n",
    "    ...\n",
    "    \n",
    "    \n"
   ]
  },
  {
   "cell_type": "markdown",
   "metadata": {},
   "source": [
    "## Sharing Variables "
   ]
  },
  {
   "cell_type": "markdown",
   "metadata": {},
   "source": [
    "Q16. Complete this code."
   ]
  },
  {
   "cell_type": "code",
   "execution_count": 87,
   "metadata": {
    "collapsed": false
   },
   "outputs": [],
   "source": [
    "g = tf.Graph()\n",
    "with g.as_default():\n",
    "    with tf.variable_scope(\"foo\"):\n",
    "        v = tf.get_variable(\"v\", [1,])  # v.name == \"foo/v:0\"\n",
    "        \n",
    "    #Q. Get the existing variable `v`\n",
    "    ...\n",
    "\n",
    "assert v1 == v    "
   ]
  },
  {
   "cell_type": "markdown",
   "metadata": {},
   "source": [
    "Q17. Predict the result of this code."
   ]
  },
  {
   "cell_type": "code",
   "execution_count": 4,
   "metadata": {
    "collapsed": false
   },
   "outputs": [],
   "source": [
    "with tf.variable_scope(\"foo\"):\n",
    "    with tf.variable_scope(\"bar\"):\n",
    "        v = tf.get_variable(\"v\", [1])\n",
    "        # print \"v.name =\", v.name"
   ]
  },
  {
   "cell_type": "markdown",
   "metadata": {},
   "source": [
    "Q18. Complete this code."
   ]
  },
  {
   "cell_type": "code",
   "execution_count": 101,
   "metadata": {
    "collapsed": false
   },
   "outputs": [
    {
     "name": "stdout",
     "output_type": "stream",
     "text": [
      "x =\n",
      "[[ 0.  1.  2.  3.]\n",
      " [ 4.  5.  6.  7.]]\n"
     ]
    }
   ],
   "source": [
    "value = [0, 1, 2, 3, 4, 5, 6, 7]\n",
    "# Q. Create an initializer with `value`.\n",
    "init = ...\n",
    "\n",
    "tf.reset_default_graph()\n",
    "x = tf.get_variable('x', shape=[2, 4], initializer=init)\n",
    "\n",
    "with tf.Session():\n",
    "    x.initializer.run()\n",
    "    print \"x =\\n\", x.eval()\n"
   ]
  },
  {
   "cell_type": "markdown",
   "metadata": {},
   "source": [
    "Q19. Complete this code."
   ]
  },
  {
   "cell_type": "code",
   "execution_count": 153,
   "metadata": {
    "collapsed": false
   },
   "outputs": [
    {
     "name": "stdout",
     "output_type": "stream",
     "text": [
      "Make sure the mean 0.030713 is close to 0\n",
      "Make sure the standard deviation 1.98601 is close to 2\n"
     ]
    }
   ],
   "source": [
    "# Q. Create an initializer with a normal distribution of mean equals 0 and standard deviation equals 2.\n",
    "init = ...\n",
    "\n",
    "tf.reset_default_graph()\n",
    "x = tf.get_variable('x', shape=[10, 1000], initializer=init)\n",
    "\n",
    "with tf.Session():\n",
    "    x.initializer.run()\n",
    "    _x = x.eval()\n",
    "    print \"Make sure the mean\", np.mean(_x), \"is close to 0\" \n",
    "    print \"Make sure the standard deviation\", np.std(_x), \"is close to 2\" \n",
    "    \n"
   ]
  },
  {
   "cell_type": "markdown",
   "metadata": {},
   "source": [
    "Q20. Complete this code."
   ]
  },
  {
   "cell_type": "code",
   "execution_count": 148,
   "metadata": {
    "collapsed": false
   },
   "outputs": [
    {
     "data": {
      "image/png": "[encoded data removed]",
      "text/plain": [
       "<matplotlib.figure.Figure at 0x7fa391b8f5d0>"
      ]
     },
     "metadata": {},
     "output_type": "display_data"
    }
   ],
   "source": [
    "# Q. Create an initializer with a truncated normal distribution of mean equals 0 and standard deviation equals 2.\n",
    "init = ...\n",
    "\n",
    "tf.reset_default_graph()\n",
    "x = tf.get_variable('x', shape=[1000,], initializer=init)\n",
    "\n",
    "with tf.Session():\n",
    "    x.initializer.run()\n",
    "    _x = x.eval()\n",
    "    plt.scatter(np.arange(1000), _x)\n",
    "    _avg = np.array([np.mean(_x)] * 1000)\n",
    "    _std = np.array([np.std(_x)] * 1000)\n",
    "    plt.plot(np.arange(1000), _avg, 'r-')\n",
    "    plt.plot(np.arange(1000), _avg + 2*_std, 'g-')\n",
    "    plt.plot(np.arange(1000), _avg - 2*_std, 'k-')\n",
    "    plt.legend(['mean', 'upper 2*std', 'lower 2*std'])\n",
    "    plt.show()\n",
    "# Note that few data points exceed the bounaries.\n"
   ]
  },
  {
   "cell_type": "markdown",
   "metadata": {},
   "source": [
    "Q21. Complete this code."
   ]
  },
  {
   "cell_type": "code",
   "execution_count": 150,
   "metadata": {
    "collapsed": false
   },
   "outputs": [
    {
     "data": {
      "image/png": "[encoded data removed]",
      "text/plain": [
       "<matplotlib.figure.Figure at 0x7fa391c18850>"
      ]
     },
     "metadata": {},
     "output_type": "display_data"
    }
   ],
   "source": [
    "# Q. Create an initializer with a random normal distribution of minimum 0 and maximum 1.\n",
    "init = ...\n",
    "\n",
    "tf.reset_default_graph()\n",
    "x = tf.get_variable('x', shape=[5000,], initializer=init)\n",
    "\n",
    "with tf.Session():\n",
    "    x.initializer.run()\n",
    "    _x = x.eval()\n",
    "    count, bins, ignored = plt.hist(_x, 20, normed=True)\n",
    "    plt.plot(bins, np.ones_like(bins), linewidth=2, color='r')\n",
    "    plt.show()\n",
    "# Note that few data points exceed the bounaries.\n"
   ]
  },
  {
   "cell_type": "code",
   "execution_count": 155,
   "metadata": {
    "collapsed": true
   },
   "outputs": [],
   "source": [
    "# Check other initializers such as zeros_initializer, ones_initializer, or orthogonal_initializer, as well."
   ]
  },
  {
   "cell_type": "markdown",
   "metadata": {
    "collapsed": true
   },
   "source": [
    "## Exporting and Importing Meta Graphs"
   ]
  },
  {
   "cell_type": "markdown",
   "metadata": {},
   "source": [
    "Q22. Complete the code. Make sure you've done questions 14-15."
   ]
  },
  {
   "cell_type": "code",
   "execution_count": 111,
   "metadata": {
    "collapsed": false
   },
   "outputs": [
    {
     "name": "stdout",
     "output_type": "stream",
     "text": [
      "Of course, there're no variables since we reset the graph. See []\n",
      "Now we have a variable Variable:0\n"
     ]
    }
   ],
   "source": [
    "tf.reset_default_graph()\n",
    "print \"Of course, there're no variables since we reset the graph. See\", tf.global_variables()\n",
    "with tf.Session() as sess:\n",
    "    # Q. Import the saved graph of `model/my-model-10000`.\n",
    "    new_saver = ...\n",
    "    \n",
    "    new_saver.restore(sess, 'model/my-model-10000')\n",
    "    \n",
    "    for v in tf.global_variables():\n",
    "        print \"Now we have a variable\", v.name\n"
   ]
  },
  {
   "cell_type": "code",
   "execution_count": null,
   "metadata": {
    "collapsed": true
   },
   "outputs": [],
   "source": []
  }
 ],
 "metadata": {
  "kernelspec": {
   "display_name": "Python 2",
   "language": "python",
   "name": "python2"
  },
  "language_info": {
   "codemirror_mode": {
    "name": "ipython",
    "version": 2
   },
   "file_extension": ".py",
   "mimetype": "text/x-python",
   "name": "python",
   "nbconvert_exporter": "python",
   "pygments_lexer": "ipython2",
   "version": "2.7.6"
  }
 },
 "nbformat": 4,
 "nbformat_minor": 0
}
